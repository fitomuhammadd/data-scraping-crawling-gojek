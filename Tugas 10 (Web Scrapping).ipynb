{
 "cells": [
  {
   "cell_type": "code",
   "execution_count": 1,
   "metadata": {},
   "outputs": [
    {
     "name": "stdout",
     "output_type": "stream",
     "text": [
      "Requirement already satisfied: webdriver_manager in c:\\users\\fitor\\appdata\\local\\programs\\python\\python312\\lib\\site-packages (4.0.2)\n",
      "Requirement already satisfied: requests in c:\\users\\fitor\\appdata\\local\\programs\\python\\python312\\lib\\site-packages (from webdriver_manager) (2.32.3)\n",
      "Requirement already satisfied: python-dotenv in c:\\users\\fitor\\appdata\\local\\programs\\python\\python312\\lib\\site-packages (from webdriver_manager) (1.0.1)\n",
      "Requirement already satisfied: packaging in c:\\users\\fitor\\appdata\\roaming\\python\\python312\\site-packages (from webdriver_manager) (24.1)\n",
      "Requirement already satisfied: charset-normalizer<4,>=2 in c:\\users\\fitor\\appdata\\local\\programs\\python\\python312\\lib\\site-packages (from requests->webdriver_manager) (3.4.0)\n",
      "Requirement already satisfied: idna<4,>=2.5 in c:\\users\\fitor\\appdata\\local\\programs\\python\\python312\\lib\\site-packages (from requests->webdriver_manager) (3.10)\n",
      "Requirement already satisfied: urllib3<3,>=1.21.1 in c:\\users\\fitor\\appdata\\local\\programs\\python\\python312\\lib\\site-packages (from requests->webdriver_manager) (2.2.3)\n",
      "Requirement already satisfied: certifi>=2017.4.17 in c:\\users\\fitor\\appdata\\local\\programs\\python\\python312\\lib\\site-packages (from requests->webdriver_manager) (2024.8.30)\n",
      "Note: you may need to restart the kernel to use updated packages.\n"
     ]
    },
    {
     "name": "stderr",
     "output_type": "stream",
     "text": [
      "\n",
      "[notice] A new release of pip is available: 24.2 -> 24.3.1\n",
      "[notice] To update, run: python.exe -m pip install --upgrade pip\n"
     ]
    }
   ],
   "source": [
    "pip install webdriver_manager"
   ]
  },
  {
   "cell_type": "code",
   "execution_count": null,
   "metadata": {},
   "outputs": [
    {
     "name": "stdout",
     "output_type": "stream",
     "text": [
      "Client List: [\"ABC Soya\\nAcer x HMNS\\nAjinomoto\\nAPC by Schneider Electric\\nAstro\\nAuthenticity ID\\nAvian Brands\\nBango\\nBCA\\nBCA Paylater\\nBinus University\\nBiore UV\\nBRI\\nBridestory Market by Danamon\\nBRImo\\nButtonscarves\\nChitato\\nCity Vision\\nClarks\\nClear x Grab\\nClozette\\nCSR Scarlett Whitening\\nDancow UGM\\nDanone\\nDarlie\\nDisney\\nDjarum Robotic\\nDove\\nDurex\\nDXI (Deep & Extreme Indonesia)\\nFemmy Fiber\\nFestival Like 2\\nFlip.id\\nGaleri 24\\nGarmin\\nGaung Merah\\nGojek\\nGong Cha\\nGoogle Indonesia\\nGopay Tabungan by Bank Jago\\nGrab\\nGrabmart\\nGreenfields\\nGudang Garam\\nHAUS\\nHealthyWay Kids\\nHome\\nHoneye Lens\\nHyundai\\nIM3\\nIMPLORA\\nIndomilk\\nJago Syariah\\nJenius\\nKampus Merdeka\\nKanzler\\nKapal Api\\nKemendikbud\\nKemenpora\\nKIN Yogurt\\nKitchenette\\nKodomo\\nLazada\\nLe Minerale\\nLG\\nLifebuoy x PMI\\nLine Bank x Hana Bank\\nMaybelline\\nMeta\\nMoko Moko\\nMola\\nMoon Chicken\\nMr DIY\\nMs Glow\\nNetflix\\nNexon\\nNipis Madu\\nNVMEE\\nOCBC\\nOne Piece\\nOronamin C\\nOvale\\nPandora Experience\\nPantene\\nPlossa\\nPocari Sweat\\nPond's Men Sunscreen\\nPop Mie\\nPosh\\nPT. Kreasi Antar Rupa - Ancol\\nPuma\\nR1 For Men\\nRoyal Canin\\nRoyco\\nSalonpas\\nSamsung\\nSamsung Galaxy\\nSamsung Galaxy Watch\\nSasa\\nScentplus\\nSoffell\\nSoftex\\nSomethinc\\nSony Pictures\\nSpotify\\nSunlight\\nSunpride LYFE\\nSunsilk\\nSuperbank\\nTeamup\\nTelkom Indonesia\\nTelkomsel\\nThe Palace\\nThe People's Cafe\\nTiket.com\\nTokopedia\\nToyota\\nUltramilk\\nVaseline\\nVidio.com\"]\n",
      "Data berhasil disimpan ke file 'client_list.csv'\n"
     ]
    }
   ],
   "source": [
    "from selenium import webdriver\n",
    "from selenium.webdriver.common.by import By\n",
    "from selenium.webdriver.chrome.service import Service\n",
    "from webdriver_manager.chrome import ChromeDriverManager\n",
    "import pandas as pd\n",
    "import time"
   ]
  },
  {
   "cell_type": "code",
   "execution_count": 7,
   "metadata": {},
   "outputs": [
    {
     "name": "stdout",
     "output_type": "stream",
     "text": [
      "Client List: [\"ABC Soya\\nAcer x HMNS\\nAjinomoto\\nAPC by Schneider Electric\\nAstro\\nAuthenticity ID\\nAvian Brands\\nBango\\nBCA\\nBCA Paylater\\nBinus University\\nBiore UV\\nBRI\\nBridestory Market by Danamon\\nBRImo\\nButtonscarves\\nChitato\\nCity Vision\\nClarks\\nClear x Grab\\nClozette\\nCSR Scarlett Whitening\\nDancow UGM\\nDanone\\nDarlie\\nDisney\\nDjarum Robotic\\nDove\\nDurex\\nDXI (Deep & Extreme Indonesia)\\nFemmy Fiber\\nFestival Like 2\\nFlip.id\\nGaleri 24\\nGarmin\\nGaung Merah\\nGojek\\nGong Cha\\nGoogle Indonesia\\nGopay Tabungan by Bank Jago\\nGrab\\nGrabmart\\nGreenfields\\nGudang Garam\\nHAUS\\nHealthyWay Kids\\nHome\\nHoneye Lens\\nHyundai\\nIM3\\nIMPLORA\\nIndomilk\\nJago Syariah\\nJenius\\nKampus Merdeka\\nKanzler\\nKapal Api\\nKemendikbud\\nKemenpora\\nKIN Yogurt\\nKitchenette\\nKodomo\\nLazada\\nLe Minerale\\nLG\\nLifebuoy x PMI\\nLine Bank x Hana Bank\\nMaybelline\\nMeta\\nMoko Moko\\nMola\\nMoon Chicken\\nMr DIY\\nMs Glow\\nNetflix\\nNexon\\nNipis Madu\\nNVMEE\\nOCBC\\nOne Piece\\nOronamin C\\nOvale\\nPandora Experience\\nPantene\\nPlossa\\nPocari Sweat\\nPond's Men Sunscreen\\nPop Mie\\nPosh\\nPT. Kreasi Antar Rupa - Ancol\\nPuma\\nR1 For Men\\nRoyal Canin\\nRoyco\\nSalonpas\\nSamsung\\nSamsung Galaxy\\nSamsung Galaxy Watch\\nSasa\\nScentplus\\nSoffell\\nSoftex\\nSomethinc\\nSony Pictures\\nSpotify\\nSunlight\\nSunpride LYFE\\nSunsilk\\nSuperbank\\nTeamup\\nTelkom Indonesia\\nTelkomsel\\nThe Palace\\nThe People's Cafe\\nTiket.com\\nTokopedia\\nToyota\\nUltramilk\\nVaseline\\nVidio.com\"]\n",
      "Data berhasil disimpan ke file 'client_list.csv'\n"
     ]
    }
   ],
   "source": [
    "# Menginisialisasi driver Chrome\n",
    "driver = webdriver.Chrome(service=Service(ChromeDriverManager().install()))\n",
    "\n",
    "# Membuka URL yang dituju\n",
    "url = \"https://cretivox.com/work\"\n",
    "driver.get(url)\n",
    "\n",
    "# Tunggu beberapa detik agar halaman sepenuhnya dimuat\n",
    "time.sleep(3)\n",
    "\n",
    "# Mengambil daftar klien berdasarkan class yang diberikan\n",
    "try:\n",
    "    # Mengambil elemen dengan class name 'clientList_list__BCNJn'\n",
    "    client_elements = driver.find_elements(By.CLASS_NAME, \"clientList_list__BCNJn\")\n",
    "    clients = [client.text for client in client_elements]\n",
    "\n",
    "    # Memeriksa data yang diambil\n",
    "    print(\"Client List:\", clients)\n",
    "\n",
    "    # Menyimpan data ke dalam DataFrame pandas\n",
    "    df = pd.DataFrame(clients, columns=[\"Client Name\"])\n",
    "\n",
    "    # Ekspor data ke file CSV\n",
    "    df.to_csv(\"client_list.csv\", index=False)\n",
    "    print(\"Data berhasil disimpan ke file 'client_list.csv'\")\n",
    "\n",
    "except Exception as e:\n",
    "    print(\"Error:\", e)\n",
    "\n",
    "# Menutup driver\n",
    "driver.quit()"
   ]
  }
 ],
 "metadata": {
  "kernelspec": {
   "display_name": "Python 3",
   "language": "python",
   "name": "python3"
  },
  "language_info": {
   "codemirror_mode": {
    "name": "ipython",
    "version": 3
   },
   "file_extension": ".py",
   "mimetype": "text/x-python",
   "name": "python",
   "nbconvert_exporter": "python",
   "pygments_lexer": "ipython3",
   "version": "3.12.6"
  }
 },
 "nbformat": 4,
 "nbformat_minor": 2
}
